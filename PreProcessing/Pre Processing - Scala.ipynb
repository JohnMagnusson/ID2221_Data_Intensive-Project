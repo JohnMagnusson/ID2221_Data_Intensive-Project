{
 "cells": [
  {
   "cell_type": "code",
   "execution_count": 7,
   "metadata": {},
   "outputs": [
    {
     "name": "stdout",
     "output_type": "stream",
     "text": [
      "all good\n"
     ]
    },
    {
     "data": {
      "text/plain": [
       "lastException: Throwable = null\n"
      ]
     },
     "metadata": {},
     "output_type": "display_data"
    }
   ],
   "source": [
    "import scala.util.matching\n",
    "import org.apache.spark.rdd.RDD\n",
    "\n",
    "println(\"all good\")"
   ]
  },
  {
   "cell_type": "markdown",
   "metadata": {},
   "source": [
    "data is in the format:\n",
    "\n",
    "{\n",
    "\"conversionSymbol\": \"\",\n",
    "\"volumeto\": 6685400.72, \n",
    "\"high\": 9165.89, \n",
    "\"low\": 9144.6, \n",
    "\"time\": 1595030400, \n",
    "\"volumefrom\": 730.39, \n",
    "\"close\": 9151.68, \n",
    "\"open\": 9156.79, \n",
    "\"conversionType\": \"direct\"\n",
    "}\n"
   ]
  },
  {
   "cell_type": "code",
   "execution_count": 26,
   "metadata": {},
   "outputs": [
    {
     "ename": "Unknown Error",
     "evalue": "<console>:55: error: value _1 is not a member of TradingInfo\n       val test = tradingInformation.map(x => x._1)\n                                                ^\n",
     "output_type": "error",
     "traceback": []
    }
   ],
   "source": [
    "case class TradingInfo (conversionSymbol: String, \n",
    "                        volumeto: Double, \n",
    "                        high: Double, \n",
    "                        low: Double, \n",
    "                        time: Double,\n",
    "                        volumefrom: Double,\n",
    "                        close: Double,\n",
    "                        open: Double,\n",
    "                        conversionType: String\n",
    "                       )\n",
    "\n",
    "def createTradingInfo(data: String): TradingInfo = {\n",
    "    val s = data.split(\", \")\n",
    "    return TradingInfo(s(0).split(\": \")(1), s(1).split(\": \")(1).toDouble, s(2).split(\": \")(1).toDouble, \n",
    "                       s(3).split(\": \")(1).toDouble, s(4).split(\": \")(1).toDouble, s(5).split(\": \")(1).toDouble, \n",
    "                       s(6).split(\": \")(1).toDouble, s(7).split(\": \")(1).toDouble, s(8).split(\": \")(1))\n",
    "}\n",
    "\n",
    "val filename = \"../Datasets/day_json.txt\"\n",
    "//val johnFileName = \"/home/john/ID2221-Labs/project/Datasets\"\n",
    "val tradingInformation = sc.textFile(filename)\n",
    "            .flatMap(l => l.split(\"},\")).\n",
    "            //map(x => x.replace(\"\\\\\", \"\")).\n",
    "            map(x => x.replace(\"[\", \"\")).\n",
    "            map(x => x.replace(\"{\", \"\")).\n",
    "            map(x => x.replace(\"\\\"\", \"\")).\n",
    "            map(createTradingInfo)\n",
    "            .cache()\n",
    "\n",
    "// THE CODE IS STUPID BUT IT WORKS \n",
    "// CONVERSION SYMBOL IS EMPTY BECAUSE I REMOVED \\ FROM IT\n",
    "\n",
    "tradingInformation.take(5).foreach(println)\n",
    "\n",
    "val test = tradingInformation.map(x => x._1)\n",
    "\n",
    "// tradingInformation.saveAsTextFile(\"data_cleaned\")\n",
    "\n",
    "println(\"All good\")"
   ]
  }
 ],
 "metadata": {
  "kernelspec": {
   "display_name": "Apache Toree - Scala",
   "language": "scala",
   "name": "apache_toree_scala"
  },
  "language_info": {
   "codemirror_mode": "text/x-scala",
   "file_extension": ".scala",
   "mimetype": "text/x-scala",
   "name": "scala",
   "pygments_lexer": "scala",
   "version": "2.11.12"
  }
 },
 "nbformat": 4,
 "nbformat_minor": 2
}
