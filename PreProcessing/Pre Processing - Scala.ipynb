{
 "cells": [
  {
   "cell_type": "code",
   "execution_count": 10,
   "metadata": {},
   "outputs": [
    {
     "name": "stdout",
     "output_type": "stream",
     "text": [
      "all good\n"
     ]
    }
   ],
   "source": [
    "import scala.util.matching\n",
    "import org.apache.spark.rdd.RDD\n",
    "import org.apache.spark.sql.functions.{min, max, mean, stddev, typedLit}\n",
    "import org.apache.spark.sql.types.{IntegerType, DoubleType}\n",
    "//import spark.implicits._ \n",
    "\n",
    "println(\"all good\")"
   ]
  },
  {
   "cell_type": "markdown",
   "metadata": {},
   "source": [
    "data is in the format:\n",
    "\n",
    "{\n",
    "\"conversionSymbol\": \"\",\n",
    "\"volumeto\": 6685400.72, \n",
    "\"high\": 9165.89, \n",
    "\"low\": 9144.6, \n",
    "\"time\": 1595030400, \n",
    "\"volumefrom\": 730.39, \n",
    "\"close\": 9151.68, \n",
    "\"open\": 9156.79, \n",
    "\"conversionType\": \"direct\"\n",
    "}\n"
   ]
  },
  {
   "cell_type": "code",
   "execution_count": 11,
   "metadata": {},
   "outputs": [
    {
     "name": "stdout",
     "output_type": "stream",
     "text": [
      "TradingInfo(1595376000,9397.25,9365.01,9392.83,968.54,9082321.43,9366.13,\\direct\\,\\\\)\n",
      "TradingInfo(1595379600,9391.11,9361.69,9366.13,782.86,7335886.8,9375.34,\\direct\\,\\\\)\n",
      "TradingInfo(1595383200,9381.06,9365.19,9375.34,519.78,4869598.42,9369.76,\\direct\\,\\\\)\n",
      "TradingInfo(1595386800,9375.95,9364.95,9369.76,411.52,3854451.45,9367.03,\\direct\\,\\\\)\n",
      "TradingInfo(1595390400,9371.22,9356.88,9367.03,542.09,5075388.36,9356.94,\\direct\\,\\\\)\n",
      "All good\n"
     ]
    },
    {
     "data": {
      "text/plain": [
       "defined class TradingInfo\n",
       "filename = ../Datasets/bitcoin_json.txt\n",
       "tradingInformation = MapPartitionsRDD[94] at map at <console>:47\n"
      ]
     },
     "metadata": {},
     "output_type": "display_data"
    },
    {
     "data": {
      "text/plain": [
       "createTradingInfo: (data: String)TradingInfo\n"
      ]
     },
     "metadata": {},
     "output_type": "display_data"
    },
    {
     "data": {
      "text/plain": [
       "MapPartitionsRDD[94] at map at <console>:47"
      ]
     },
     "execution_count": 11,
     "metadata": {},
     "output_type": "execute_result"
    }
   ],
   "source": [
    "case class TradingInfo (time: Int,\n",
    "                        high: Double,\n",
    "                        low: Double,\n",
    "                        open: Double,\n",
    "                        close: Double,\n",
    "                        volumefrom: Double,\n",
    "                        volumeto: Double, \n",
    "                        conversionType: String,\n",
    "                        conversionSymbol: String                        \n",
    "                       )\n",
    "\n",
    "def createTradingInfo(data: String): TradingInfo = {\n",
    "    val s = data.split(\", \")\n",
    "    return TradingInfo(s(0).split(\": \")(1).toInt, s(1).split(\": \")(1).toDouble, s(2).split(\": \")(1).toDouble, \n",
    "                       s(3).split(\": \")(1).toDouble, s(4).split(\": \")(1).toDouble, s(5).split(\": \")(1).toDouble, \n",
    "                       s(6).split(\": \")(1).toDouble, s(7).split(\": \")(1), s(8).split(\": \")(1))\n",
    "}\n",
    "\n",
    "val filename = \"../Datasets/bitcoin_json.txt\"\n",
    "//val johnFileName = \"//home/john/ID2221-Labs/PreProcessing/\"\n",
    "val tradingInformation = sc.textFile(filename).\n",
    "            flatMap(l => l.split(\"},\")).\n",
    "            //map(x => x.replace(\"\\\\\", \"\")).\n",
    "            map(x => x.replace(\"[\", \"\")).\n",
    "            map(x => x.replace(\"{\", \"\")).\n",
    "            map(x => x.replace(\"\\\"\", \"\")).\n",
    "            map(createTradingInfo)\n",
    "            .cache()\n",
    "\n",
    "tradingInformation.take(5).foreach(println)\n",
    "\n",
    "println(\"All good\")"
   ]
  },
  {
   "cell_type": "code",
   "execution_count": 12,
   "metadata": {},
   "outputs": [
    {
     "name": "stdout",
     "output_type": "stream",
     "text": [
      "+----------+-------+------+-------+------+----------+--------+--------------+----------------+-----------------+--------------------+--------------------+--------------------+\n",
      "|      time|   high|   low|   open| close|volumefrom|volumeto|conversionType|conversionSymbol|         midPrice|        midPriceNorm|      volumefromNorm|        volumetoNorm|\n",
      "+----------+-------+------+-------+------+----------+--------+--------------+----------------+-----------------+--------------------+--------------------+--------------------+\n",
      "|1388581200|  967.0|718.46|  812.9| 1.012|    889.99|   967.0|      \\direct\\|              \\\\|           842.73| 0.03430077268445006|3.860005357360329E-7|0.040873380340124756|\n",
      "|1388584800| 759.11|750.13| 750.13| 1.661|   1282.36|  759.11|      \\direct\\|              \\\\|           754.62|0.029799236920461117|5.561766390706178E-7|0.030277484141069302|\n",
      "|1388588400|1169.16|912.66|1169.16|0.5916|    575.07| 1000.26|      \\direct\\|              \\\\|          1040.91| 0.04442577958159372| 2.49415530607895E-7| 0.04256860140694174|\n",
      "|1388592000| 759.11|745.01| 759.11|0.9084|    841.07|  745.01|      \\direct\\|              \\\\|           752.06|0.029668446640631223|3.647832791284230...| 0.02955882457876866|\n",
      "|1388595600| 750.13|745.01| 745.01|0.4054|    340.39|  750.13|      \\direct\\|              \\\\|747.5699999999999| 0.02943905275139833|1.476316839056486...| 0.02981978464678137|\n",
      "+----------+-------+------+-------+------+----------+--------+--------------+----------------+-----------------+--------------------+--------------------+--------------------+\n",
      "only showing top 5 rows\n",
      "\n",
      "root\n",
      " |-- time: integer (nullable = false)\n",
      " |-- high: double (nullable = false)\n",
      " |-- low: double (nullable = false)\n",
      " |-- open: double (nullable = false)\n",
      " |-- close: double (nullable = false)\n",
      " |-- volumefrom: double (nullable = false)\n",
      " |-- volumeto: double (nullable = false)\n",
      " |-- conversionType: string (nullable = true)\n",
      " |-- conversionSymbol: string (nullable = true)\n",
      " |-- midPrice: double (nullable = true)\n",
      " |-- midPriceNorm: double (nullable = true)\n",
      " |-- volumefromNorm: double (nullable = true)\n",
      " |-- volumetoNorm: double (nullable = true)\n",
      "\n",
      "All good\n"
     ]
    },
    {
     "data": {
      "text/plain": [
       "df = [time: int, high: double ... 7 more fields]\n",
       "df_1 = [time: int, high: double ... 8 more fields]\n",
       "statistics = [4097.0546260549845,4112.281709973773,171.35000000000002,19744.67,1.243764883985811E7,2.930919029022742E7,0.0,2.30567037505E9,4097.705743962565,4113.609891509019,165.07,19784.93]\n",
       "midPrice_mean = 4097.0546260549845\n",
       "midPrice_std = 4112.281709973773\n",
       "midPrice_min = 171.35000000000002\n",
       "midPrice_max = 19744.67\n",
       "midPrice_range = 19573.32\n",
       "volumefrom_mean = 1.243764883985811E7\n",
       "volumefrom_std = 2.930919029022742E7\n",
       "volumefrom_min = 0.0\n",
       "volumefrom_max = 2.30567037505E9\n",
       "volumefrom_range = 2.305670375...\n"
      ]
     },
     "metadata": {},
     "output_type": "display_data"
    },
    {
     "data": {
      "text/plain": [
       "2.305670375..."
      ]
     },
     "execution_count": 12,
     "metadata": {},
     "output_type": "execute_result"
    }
   ],
   "source": [
    "// Data Action\n",
    "\n",
    "\n",
    "// val df = tradingInformation.toDF(\"conversionSymbol\",\"volumeto\", \"high\", \"low\", \"time\", \n",
    "//                                  \"volumefrom\", \"close\",\"open\",\"conversionType\").show(5)\n",
    "\n",
    "\n",
    "\n",
    "\n",
    "val df = spark.createDataFrame(tradingInformation).sort(\"time\")\n",
    "val df_1 = df.withColumn(\"midPrice\",($\"high\" + $\"low\")/2)\n",
    "\n",
    "val statistics = df_1.agg(mean(\"midPrice\"), stddev(\"midPrice\"), min(\"midPrice\"), max(\"midPrice\"),\n",
    "                         mean(\"volumefrom\"), stddev(\"volumefrom\"), min(\"volumefrom\"), max(\"volumefrom\"),\n",
    "                         mean(\"volumeto\"), stddev(\"volumeto\"), min(\"volumeto\"), max(\"volumeto\")).head()\n",
    "\n",
    "val midPrice_mean = statistics.getDouble(0)\n",
    "val midPrice_std = statistics.getDouble(1)\n",
    "val midPrice_min = statistics.getDouble(2)\n",
    "val midPrice_max = statistics.getDouble(3)\n",
    "val midPrice_range = midPrice_max - midPrice_min\n",
    "\n",
    "// VolumeFrom\n",
    "val volumefrom_mean = statistics.getDouble(4)\n",
    "val volumefrom_std = statistics.getDouble(5)\n",
    "val volumefrom_min = statistics.getDouble(6)\n",
    "val volumefrom_max = statistics.getDouble(7)\n",
    "val volumefrom_range = volumefrom_max - volumefrom_min\n",
    "\n",
    "// VolumeTo\n",
    "val volumeto_mean = statistics.getDouble(8)\n",
    "val volumeto_std = statistics.getDouble(9)\n",
    "val volumeto_min = statistics.getDouble(10)\n",
    "val volumeto_max = statistics.getDouble(11)\n",
    "val volumeto_range = volumeto_max - volumeto_min\n",
    "\n",
    "// from -1 to 1 \n",
    "//val df_2 = df_1.withColumn(\"midPriceNorm\",($\"midPrice\" - midPrice_mean)/midPrice_std)\n",
    "// from 0 to 1 \n",
    "val df_2 = df_1.withColumn(\"midPriceNorm\",(($\"midPrice\" - midPrice_min)/midPrice_range).cast(DoubleType))\n",
    "               .withColumn(\"volumefromNorm\",(($\"volumefrom\" - volumefrom_min)/volumefrom_range).cast(DoubleType))\n",
    "               .withColumn(\"volumetoNorm\",(($\"volumeto\" - volumeto_min)/volumeto_range).cast(DoubleType))\n",
    "               .cache()\n",
    "\n",
    "df_2.show(5)\n",
    "df_2.printSchema()\n",
    "\n",
    "println(\"All good\")"
   ]
  },
  {
   "cell_type": "code",
   "execution_count": 13,
   "metadata": {},
   "outputs": [
    {
     "name": "stdout",
     "output_type": "stream",
     "text": [
      "All good\n"
     ]
    },
    {
     "data": {
      "text/plain": [
       "df_3 = [time: int, high: double ... 12 more fields]\n"
      ]
     },
     "metadata": {},
     "output_type": "display_data"
    },
    {
     "data": {
      "text/plain": [
       "[time: int, high: double ... 12 more fields]"
      ]
     },
     "execution_count": 13,
     "metadata": {},
     "output_type": "execute_result"
    }
   ],
   "source": [
    "// Saving data as Text\n",
    "\n",
    "// don't forget to delete the previous folder \n",
    "// RDD does not allow us to overwrite: https://community.cloudera.com/t5/Support-Questions/Apache-SPARK-Overwrite-data-file/m-p/105253\n",
    "val df_3 = df_2.withColumn(\"empty\", typedLit(Seq(1)))\n",
    "df_3.rdd.repartition(1).saveAsTextFile(\"data_cleaned\")\n",
    "\n",
    "println(\"All good\")"
   ]
  },
  {
   "cell_type": "code",
   "execution_count": null,
   "metadata": {},
   "outputs": [],
   "source": []
  }
 ],
 "metadata": {
  "kernelspec": {
   "display_name": "Apache Toree - Scala",
   "language": "scala",
   "name": "apache_toree_scala"
  },
  "language_info": {
   "codemirror_mode": "text/x-scala",
   "file_extension": ".scala",
   "mimetype": "text/x-scala",
   "name": "scala",
   "pygments_lexer": "scala",
   "version": "2.11.12"
  }
 },
 "nbformat": 4,
 "nbformat_minor": 2
}
