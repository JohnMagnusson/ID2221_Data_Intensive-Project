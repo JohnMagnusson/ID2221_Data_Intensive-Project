{
 "cells": [
  {
   "cell_type": "code",
   "execution_count": 71,
   "metadata": {},
   "outputs": [
    {
     "name": "stdout",
     "output_type": "stream",
     "text": [
      "all good\n"
     ]
    }
   ],
   "source": [
    "import scala.util.matching\n",
    "import org.apache.spark.rdd.RDD\n",
    "\n",
    "println(\"all good\")"
   ]
  },
  {
   "cell_type": "markdown",
   "metadata": {},
   "source": [
    "data is in the format:\n",
    "\n",
    "{\n",
    "\"conversionSymbol\": \"\",\n",
    "\"volumeto\": 6685400.72, \n",
    "\"high\": 9165.89, \n",
    "\"low\": 9144.6, \n",
    "\"time\": 1595030400, \n",
    "\"volumefrom\": 730.39, \n",
    "\"close\": 9151.68, \n",
    "\"open\": 9156.79, \n",
    "\"conversionType\": \"direct\"\n",
    "}\n"
   ]
  },
  {
   "cell_type": "code",
   "execution_count": 120,
   "metadata": {},
   "outputs": [
    {
     "name": "stdout",
     "output_type": "stream",
     "text": [
      "time: 1595037600, high: 9146.79, low: 9125.95, open: 9141.1, volumefrom: 612.19, volumeto: 5592905.32, close: 9144.83, conversionType: direct, conversionSymbol: \n",
      " time: 1595041200, high: 9144.84, low: 9125.92, open: 9144.83, volumefrom: 536.94, volumeto: 4905635.56, close: 9139.76, conversionType: direct, conversionSymbol: \n",
      " time: 1595044800, high: 9144.98, low: 9129.93, open: 9139.76, volumefrom: 501.97, volumeto: 4585206.62, close: 9143.94, conversionType: direct, conversionSymbol: \n",
      " time: 1595048400, high: 9145.4, low: 9130.72, open: 9143.94, volumefrom: 342.17, volumeto: 3125247.16, close: 9137.95, conversionType: direct, conversionSymbol: \n",
      " time: 1595052000, high: 9142.14, low: 9132.61, open: 9137.95, volumefrom: 295.63, volumeto: 2700215.73, close: 9139.16, conversionType: direct, conversionSymbol: \n",
      "All good\n"
     ]
    },
    {
     "data": {
      "text/plain": [
       "defined class TradingInfo\n",
       "filename = ../Datasets/day_json.txt\n",
       "file = MapPartitionsRDD[292] at map at <console>:34\n"
      ]
     },
     "metadata": {},
     "output_type": "display_data"
    },
    {
     "data": {
      "text/plain": [
       "MapPartitionsRDD[292] at map at <console>:34"
      ]
     },
     "execution_count": 120,
     "metadata": {},
     "output_type": "execute_result"
    }
   ],
   "source": [
    "case class TradingInfo (conversionSymbol: String, \n",
    "                        volumeto: Double, \n",
    "                        high: Double, \n",
    "                        low: Double, \n",
    "                        time: Double,\n",
    "                        volumefrom: Double,\n",
    "                        close: Double,\n",
    "                        open: Double,\n",
    "                        conversionType: String\n",
    "                       )\n",
    "\n",
    "val filename = \"../Datasets/day_json.txt\"\n",
    "val file = sc.textFile(filename).flatMap(l => l.split(\"},\")).\n",
    "            map(x => x.replace(\"\\\\\", \"\")).\n",
    "            map(x => x.replace(\"[\", \"\")).\n",
    "            map(x => x.replace(\"{\", \"\")).\n",
    "            map(x => x.replace(\"\\\"\", \"\"))\n",
    "\n",
    "// THE CODE IS STUPID BUT IT WORKS \n",
    "// CONVERSION SYMBOL IS EMPTY BECAUSE I REMOVED \\ FROM IT\n",
    "\n",
    "file.take(5).foreach(println)\n",
    "\n",
    "println(\"All good\")"
   ]
  },
  {
   "cell_type": "code",
   "execution_count": 107,
   "metadata": {},
   "outputs": [
    {
     "name": "stdout",
     "output_type": "stream",
     "text": [
      "Tell me, O muse, of that ingenious hero who travelled far and wide\n",
      "after he had sacked the famous town of Troy. Many cities did he visit,/ and many were the nations with whose manners and customs he was acquainted;  moreover he suffered much by sea while trying to save his own life\n",
      "and bring his men safely home; but do what he might he could not save\n",
      "\n",
      " . \n",
      " \n",
      "Tell me, O muse, of that ingenious hero who travelled far and wide\n",
      "after he had sacked the famous town of Troy. Many cities did he visit,/ and many were the nations with whose manners and customs he was acquainted;\\  moreover he suffered much by sea while trying to save his own life\n",
      "and bring his men safely home; but do what he might he could not save\n",
      "\n",
      " All good \n",
      " \n"
     ]
    },
    {
     "data": {
      "text/plain": [
       "rdd = ../Datasets/odyssey.mb.txt MapPartitionsRDD[244] at textFile at <console>:41\n"
      ]
     },
     "metadata": {},
     "output_type": "display_data"
    },
    {
     "data": {
      "text/plain": [
       "../Datasets/odyssey.mb.txt MapPartitionsRDD[244] at textFile at <console>:41"
      ]
     },
     "execution_count": 107,
     "metadata": {},
     "output_type": "execute_result"
    }
   ],
   "source": [
    "val rdd = sc.textFile(\"../Datasets/odyssey.mb.txt\")\n",
    "\n",
    "\n",
    "//rdd.take(3).foreach(println)\n",
    "\n",
    "rdd.flatMap(l => l.split(\" } \")).\n",
    "  map(x => x.replace(\"\\\\\", \"\")).\n",
    "  take(3).                \n",
    "  foreach(println)\n",
    "\n",
    "println(\"\\n . \\n \")\n",
    "\n",
    "rdd.flatMap(l => l.split(\" } \")).\n",
    "  map(x => x).//replace(\"\\\\\", \"\")).\n",
    "  take(3).                \n",
    "  foreach(println)\n",
    "\n",
    "\n",
    "println(\"\\n All good \\n \")"
   ]
  },
  {
   "cell_type": "code",
   "execution_count": 70,
   "metadata": {},
   "outputs": [
    {
     "ename": "Compile Error",
     "evalue": "<console>:17: error: not found: type SparkContext\n       val sc = new SparkContext(new SparkConf().setMaster(\"local[*]\").setAppName(\"Example\"))\n                    ^\n<console>:17: error: not found: type SparkConf\n       val sc = new SparkContext(new SparkConf().setMaster(\"local[*]\").setAppName(\"Example\"))\n                                     ^\n",
     "output_type": "error",
     "traceback": []
    }
   ],
   "source": []
  }
 ],
 "metadata": {
  "kernelspec": {
   "display_name": "Apache Toree - Scala",
   "language": "scala",
   "name": "apache_toree_scala"
  },
  "language_info": {
   "codemirror_mode": "text/x-scala",
   "file_extension": ".scala",
   "mimetype": "text/x-scala",
   "name": "scala",
   "pygments_lexer": "scala",
   "version": "2.11.12"
  }
 },
 "nbformat": 4,
 "nbformat_minor": 2
}
