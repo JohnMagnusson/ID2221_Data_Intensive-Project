{
 "cells": [
  {
   "cell_type": "code",
   "execution_count": 45,
   "metadata": {},
   "outputs": [
    {
     "name": "stdout",
     "output_type": "stream",
     "text": [
      "all good\n"
     ]
    }
   ],
   "source": [
    "import scala.util.matching\n",
    "import org.apache.spark.rdd.RDD\n",
    "import scala.util.matching.Regex\n",
    "\n",
    "println(\"all good\")"
   ]
  },
  {
   "cell_type": "markdown",
   "metadata": {},
   "source": [
    "data is in the format:\n",
    "\n",
    "{\n",
    "\"conversionSymbol\": \"\",\n",
    "\"volumeto\": 6685400.72, \n",
    "\"high\": 9165.89, \n",
    "\"low\": 9144.6, \n",
    "\"time\": 1595030400, \n",
    "\"volumefrom\": 730.39, \n",
    "\"close\": 9151.68, \n",
    "\"open\": 9156.79, \n",
    "\"conversionType\": \"direct\"\n",
    "}\n"
   ]
  },
  {
   "cell_type": "code",
   "execution_count": 61,
   "metadata": {},
   "outputs": [
    {
     "name": "stdout",
     "output_type": "stream",
     "text": [
      "All good\n"
     ]
    },
    {
     "data": {
      "text/plain": [
       "filename = ../Datasets/day_json.txt\n",
       "file = ../Datasets/day_json.txt MapPartitionsRDD[60] at textFile at <console>:67\n",
       "keyValPattern = ^(\\S+) (\\S+) (\\S+) \\[([\\w:/]+\\s[+\\-]\\d{4})\\] \"(\\S+) (\\S+)\\s*(\\S*)\\s*\" (\\d{3}) (\\S+)\n"
      ]
     },
     "metadata": {},
     "output_type": "display_data"
    },
    {
     "data": {
      "text/plain": [
       "^(\\S+) (\\S+) (\\S+) \\[([\\w:/]+\\s[+\\-]\\d{4})\\] \"(\\S+) (\\S+)\\s*(\\S*)\\s*\" (\\d{3}) (\\S+)"
      ]
     },
     "execution_count": 61,
     "metadata": {},
     "output_type": "execute_result"
    }
   ],
   "source": [
    "// case class TradingInfo (conversionSymbol: String, \n",
    "//                         volumeto: Double, \n",
    "//                         high: Double, \n",
    "//                         low: Double, \n",
    "//                         time: Double,\n",
    "//                         volumefrom: Double,\n",
    "//                         close: Double,\n",
    "//                         open: Double,\n",
    "//                         conversionType: String\n",
    "//                        )\n",
    "\n",
    "val filename = \"../Datasets/day_json.txt\"\n",
    "val file = sc.textFile(filename)\n",
    "\n",
    "val keyValPattern = \"\"\"^(\\S+) (\\S+) (\\S+) \\[([\\w:/]+\\s[+\\-]\\d{4})\\] \"(\\S+) (\\S+)\\s*(\\S*)\\s*\" (\\d{3}) (\\S+)\"\"\".r\n",
    "//val keyValPattern: Regex = \"([0-9a-zA-Z- ]+): ([0-9a-zA-Z-#()/. ]+)\".r\n",
    "\n",
    "// val ret = keyValPattern.findAllIn(file).matchData.toList\n",
    "\n",
    "println(\"All good\")"
   ]
  },
  {
   "cell_type": "code",
   "execution_count": 63,
   "metadata": {},
   "outputs": [
    {
     "name": "stdout",
     "output_type": "stream",
     "text": [
      "background-color: #A03300; |background-image: url(img/header100.png); |background-position: top center;|background-repeat: repeat-x;\n",
      "background-size: 2160px 108px;\n",
      "margin: 0;\n",
      "height: 108px;\n",
      "width: 100%;\n"
     ]
    },
    {
     "data": {
      "text/plain": [
       "keyValPattern = ([0-9a-zA-Z- ]+): ([0-9a-zA-Z-#()/. ]+)\n",
       "input = \n"
      ]
     },
     "metadata": {},
     "output_type": "display_data"
    },
    {
     "data": {
      "text/plain": [
       "background-color: #A03300; |background-image: url(img/header100.png); |background-position: top center;|background-repeat: repeat-x;\n",
       "background-size: 2160px 108px;\n",
       "margin: 0;\n",
       "height: 108px;\n",
       "width: 100%;\n"
      ]
     },
     "metadata": {},
     "output_type": "display_data"
    }
   ],
   "source": [
    "import scala.util.matching.Regex\n",
    "\n",
    "val keyValPattern: Regex = \"([0-9a-zA-Z- ]+): ([0-9a-zA-Z-#()/. ]+)\".r\n",
    "\n",
    "val input: String =\n",
    "  \"\"\"background-color: #A03300; |background-image: url(img/header100.png); |background-position: top center;|background-repeat: repeat-x;\n",
    "    |background-size: 2160px 108px;\n",
    "    |margin: 0;\n",
    "    |height: 108px;\n",
    "    |width: 100%;\"\"\".stripMargin\n",
    "\n",
    "\n",
    "// val patternMatch = keyValPattern.findAllMatchIn(input)\n",
    "\n",
    "// patternMatch.foreach(println)\n",
    "\n",
    "println(input)"
   ]
  }
 ],
 "metadata": {
  "kernelspec": {
   "display_name": "Apache Toree - Scala",
   "language": "scala",
   "name": "apache_toree_scala"
  },
  "language_info": {
   "codemirror_mode": "text/x-scala",
   "file_extension": ".scala",
   "mimetype": "text/x-scala",
   "name": "scala",
   "pygments_lexer": "scala",
   "version": "2.11.12"
  }
 },
 "nbformat": 4,
 "nbformat_minor": 2
}
