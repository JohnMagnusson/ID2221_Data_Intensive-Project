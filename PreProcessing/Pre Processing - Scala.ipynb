{
 "cells": [
  {
   "cell_type": "code",
   "execution_count": 110,
   "metadata": {},
   "outputs": [
    {
     "name": "stdout",
     "output_type": "stream",
     "text": [
      "all good\n"
     ]
    }
   ],
   "source": [
    "import scala.util.matching\n",
    "import org.apache.spark.rdd.RDD\n",
    "import org.apache.spark.sql.functions.{min, max, mean, stddev, typedLit, when}\n",
    "import org.apache.spark.sql.types.{IntegerType, DoubleType}\n",
    "\n",
    "println(\"all good\")"
   ]
  },
  {
   "cell_type": "markdown",
   "metadata": {},
   "source": [
    "data is in the format:"
   ]
  },
  {
   "cell_type": "code",
   "execution_count": 112,
   "metadata": {},
   "outputs": [
    {
     "name": "stdout",
     "output_type": "stream",
     "text": [
      "TradingInfo(1595581200,9536.29,9514.4,9514.87,1017.91,9698013.33,9536.26,\\direct\\,\\\\)\n",
      "All good\n"
     ]
    },
    {
     "data": {
      "text/plain": [
       "defined class TradingInfo\n",
       "filename = ../Datasets/bitcoin_data_max_raw.txt\n",
       "tradingInformation = MapPartitionsRDD[600] at map at <console>:48\n"
      ]
     },
     "metadata": {},
     "output_type": "display_data"
    },
    {
     "data": {
      "text/plain": [
       "createTradingInfo: (data: String)TradingInfo\n"
      ]
     },
     "metadata": {},
     "output_type": "display_data"
    },
    {
     "data": {
      "text/plain": [
       "MapPartitionsRDD[600] at map at <console>:48"
      ]
     },
     "execution_count": 112,
     "metadata": {},
     "output_type": "execute_result"
    }
   ],
   "source": [
    "case class TradingInfo (time: Int,\n",
    "                        high: Double,\n",
    "                        low: Double,\n",
    "                        open: Double,\n",
    "                        volumefrom: Double,\n",
    "                        volumeto: Double, \n",
    "                        close: Double,\n",
    "                        conversionType: String,\n",
    "                        conversionSymbol: String                        \n",
    "                       )\n",
    "\n",
    "def createTradingInfo(data: String): TradingInfo = {\n",
    "    val s = data.split(\", \")\n",
    "    return TradingInfo(s(0).split(\": \")(1).toInt,    s(1).split(\": \")(1).toDouble, s(2).split(\": \")(1).toDouble, \n",
    "                       s(3).split(\": \")(1).toDouble, s(4).split(\": \")(1).toDouble, s(5).split(\": \")(1).toDouble, \n",
    "                       s(6).split(\": \")(1).toDouble, s(7).split(\": \")(1),          s(8).split(\": \")(1))\n",
    "}\n",
    "\n",
    "//val filename = \"../Datasets/bitcoin_data_raw.txt\"\n",
    "val filename = \"../Datasets/bitcoin_data_max_raw.txt\"\n",
    "val tradingInformation = sc.textFile(filename)\n",
    "            .flatMap(l => l.split(\"]}},\"))       // Splits into indiviual http calls\n",
    "            .map(x => x.split(\"\"\": \\[\\{\"\"\")(1))  // Splits up between header info and data payload\n",
    "            .flatMap(x => x.split(\"},\"))         // Now we have row wise data. It is bit messy so need to clean it\n",
    "            .map(x => x.replace(\"{\", \"\"))\n",
    "            .map(x => x.replace(\"\\\"\", \"\"))\n",
    "            .map(x => x.replace(\"]}}]\", \"\"))     // Last response is special case\n",
    "            .map(createTradingInfo)\n",
    "            .cache()\n",
    "\n",
    "tradingInformation.take(1).foreach(println)\n",
    "println(\"All good\")"
   ]
  },
  {
   "cell_type": "code",
   "execution_count": 113,
   "metadata": {},
   "outputs": [
    {
     "name": "stdout",
     "output_type": "stream",
     "text": [
      "All good\n"
     ]
    },
    {
     "data": {
      "text/plain": [
       "df = [time: int, high: double ... 7 more fields]\n",
       "df1 = [time: int, high: double ... 8 more fields]\n",
       "ratio = 0.9\n",
       "training_size = 12602.7\n",
       "testing_size = 13993\n",
       "training_position = 1597734000\n",
       "testing_position = 1602741600\n",
       "training_set = [time: int, high: double ... 8 more fields]\n",
       "validation_set = [time: int, high: double ... 8 more fields]\n"
      ]
     },
     "metadata": {},
     "output_type": "display_data"
    },
    {
     "data": {
      "text/plain": [
       "[time: int, high: double ... 8 more fields]"
      ]
     },
     "execution_count": 113,
     "metadata": {},
     "output_type": "execute_result"
    }
   ],
   "source": [
    "// Data Action\n",
    "\n",
    "val df = spark.createDataFrame(tradingInformation).sort(\"time\")\n",
    "val df1 = df.withColumn(\"midPrice\",($\"high\" + $\"low\")/2)\n",
    "\n",
    "// df1.show(5)\n",
    "\n",
    "val ratio: Double = 0.9\n",
    "val training_size = df1.count*ratio\n",
    "val testing_size = df1.count - 10\n",
    "\n",
    "val training_position = df1.take(training_size.toInt).last.getInt(0)\n",
    "val testing_position = df1.take(testing_size.toInt).last.getInt(0)\n",
    "\n",
    "// val df2 = df1.withColumn(\"dataset\", when(col(\"time\") <= training_position,\"training\")\n",
    "//       .when(col(\"time\") > training_position and col(\"time\") <= testing_position,\"validation\")\n",
    "//       .otherwise(\"testing\"))\n",
    "// df2.show(5)\n",
    "\n",
    "\n",
    "val training_set = df1.filter($\"time\" <= training_position).cache()\n",
    "val validation_set = df1.filter($\"time\" > training_position).cache()//.filter($\"time\" <= testing_position).cache()\n",
    "// val testing_set = df1.filter($\"time\" > testing_position).cache()\n",
    "\n",
    "\n",
    "// training_set.show(5)\n",
    "// validation_set.show(5)\n",
    "// testing_set.show(5)\n",
    "\n",
    "\n",
    "// println(testing_set.count)\n",
    "\n",
    "println(\"All good\")"
   ]
  },
  {
   "cell_type": "code",
   "execution_count": 114,
   "metadata": {
    "scrolled": true
   },
   "outputs": [
    {
     "name": "stdout",
     "output_type": "stream",
     "text": [
      "+----------+--------+--------+--------+----------+-------------+--------+--------------+----------------+------------------+------------------+--------------------+--------------------+\n",
      "|      time|    high|     low|    open|volumefrom|     volumeto|   close|conversionType|conversionSymbol|          midPrice|      midPriceNorm|      volumefromNorm|        volumetoNorm|\n",
      "+----------+--------+--------+--------+----------+-------------+--------+--------------+----------------+------------------+------------------+--------------------+--------------------+\n",
      "|1597737600|12282.35|12254.94| 12264.5|    835.51|1.024674827E7|12256.16|      \\direct\\|              \\\\|         12268.645|               1.0|0.010208490625367602|0.011249112124149677|\n",
      "|1597741200|12262.03|12223.28|12256.16|    951.63|1.164921859E7|12226.21|      \\direct\\|              \\\\|         12242.655|0.9886320145041324|0.012100394054222618|0.013213542100509132|\n",
      "|1597744800| 12293.7|12192.51|12226.21|   1767.11|2.163538782E7|12283.03|      \\direct\\|              \\\\|         12243.105|0.9888288438028291|0.025386730672916094|0.027201096706591942|\n",
      "|1597748400| 12284.1|12182.57|12283.03|   1667.55|2.039935091E7|12183.12|      \\direct\\|              \\\\|         12233.335|0.9845554610288918| 0.02376463365795911| 0.02546978879706647|\n",
      "|1597752000|12257.48|12179.76|12183.12|   2090.86|2.554315087E7|12257.48|      \\direct\\|              \\\\|12218.619999999999|0.9781191429614929|0.030661478649938238| 0.03267467198762167|\n",
      "+----------+--------+--------+--------+----------+-------------+--------+--------------+----------------+------------------+------------------+--------------------+--------------------+\n",
      "only showing top 5 rows\n",
      "\n",
      "root\n",
      " |-- time: integer (nullable = false)\n",
      " |-- high: double (nullable = false)\n",
      " |-- low: double (nullable = false)\n",
      " |-- open: double (nullable = false)\n",
      " |-- volumefrom: double (nullable = false)\n",
      " |-- volumeto: double (nullable = false)\n",
      " |-- close: double (nullable = false)\n",
      " |-- conversionType: string (nullable = true)\n",
      " |-- conversionSymbol: string (nullable = true)\n",
      " |-- midPrice: double (nullable = true)\n",
      " |-- midPriceNorm: double (nullable = true)\n",
      " |-- volumefromNorm: double (nullable = true)\n",
      " |-- volumetoNorm: double (nullable = true)\n",
      "\n",
      "All good\n"
     ]
    },
    {
     "data": {
      "text/plain": [
       "data_type = cleaned_data_socialMedia/validation_set\n",
       "dataset = [time: int, high: double ... 8 more fields]\n",
       "statistics = [10961.180981441823,526.9999478409599,9982.400000000001,12268.645,1536.6393004996435,2851.725433201415,208.94,61586.28,1.688991155802997E7,3.1479601433919687E7,2215642.01,7.161480992E8]\n",
       "midPrice_mean = 10961.180981441823\n",
       "midPrice_std = 526.9999478409599\n",
       "midPrice_min = 9982.400000000001\n",
       "midPrice_max = 12268.645\n",
       "midPrice_range = 2286.244999999999\n",
       "volumefrom_mean = 1536.6393004996435\n",
       "volumefrom_std = 2851.725433201415\n",
       "volumefrom_min = 208.94\n",
       "volumefrom_max = 61586.28\n",
       "volumefrom_range = 61377.34\n"
      ]
     },
     "metadata": {},
     "output_type": "display_data"
    },
    {
     "data": {
      "text/plain": [
       "volumeto_me...\n"
      ]
     },
     "metadata": {},
     "output_type": "display_data"
    },
    {
     "data": {
      "text/plain": [
       "61377.34"
      ]
     },
     "execution_count": 114,
     "metadata": {},
     "output_type": "execute_result"
    }
   ],
   "source": [
    "// training_set\n",
    "// validation_set\n",
    "val data_type = \"cleaned_data_socialMedia/validation_set\"\n",
    "val dataset = validation_set\n",
    "\n",
    "val statistics = dataset.agg(mean(\"midPrice\"), stddev(\"midPrice\"), min(\"midPrice\"), max(\"midPrice\"),\n",
    "                                  mean(\"volumefrom\"), stddev(\"volumefrom\"), min(\"volumefrom\"), max(\"volumefrom\"),\n",
    "                                  mean(\"volumeto\"), stddev(\"volumeto\"), min(\"volumeto\"), max(\"volumeto\")).head()\n",
    "\n",
    "val midPrice_mean = statistics.getDouble(0)\n",
    "val midPrice_std = statistics.getDouble(1)\n",
    "val midPrice_min = statistics.getDouble(2)\n",
    "val midPrice_max = statistics.getDouble(3)\n",
    "val midPrice_range = midPrice_max - midPrice_min\n",
    "\n",
    "// // VolumeFrom\n",
    "val volumefrom_mean = statistics.getDouble(4)\n",
    "val volumefrom_std = statistics.getDouble(5)\n",
    "val volumefrom_min = statistics.getDouble(6)\n",
    "val volumefrom_max = statistics.getDouble(7)\n",
    "val volumefrom_range = volumefrom_max - volumefrom_min\n",
    "\n",
    "// // VolumeTo\n",
    "val volumeto_mean = statistics.getDouble(8)\n",
    "val volumeto_std = statistics.getDouble(9)\n",
    "val volumeto_min = statistics.getDouble(10)\n",
    "val volumeto_max = statistics.getDouble(11)\n",
    "val volumeto_range = volumeto_max - volumeto_min\n",
    "\n",
    "// // // from -1 to 1 \n",
    "// // //val new_dataset = dataset.withColumn(\"midPriceNorm\",($\"midPrice\" - midPrice_mean)/midPrice_std)\n",
    "// // // from 0 to 1 \n",
    "val new_dataset = dataset.withColumn(\"midPriceNorm\",(($\"midPrice\" - midPrice_min)/midPrice_range).cast(DoubleType))\n",
    "               .withColumn(\"volumefromNorm\",(($\"volumefrom\" - volumefrom_min)/volumefrom_range).cast(DoubleType))\n",
    "               .withColumn(\"volumetoNorm\",(($\"volumeto\" - volumeto_min)/volumeto_range).cast(DoubleType))\n",
    "               .cache()\n",
    "               .as(\"df_2\")\n",
    "\n",
    "new_dataset.show(5)\n",
    "new_dataset.printSchema()\n",
    "\n",
    "println(\"All good\")"
   ]
  },
  {
   "cell_type": "code",
   "execution_count": null,
   "metadata": {},
   "outputs": [],
   "source": [
    "// Saving data as Text for complete bitcoin timeframe without socialData\n",
    "// save it 3 times, one for each data set (training / validation / testing )\n",
    "// don't forget to delete the previous folder \n",
    "val pre_processed_dataset = new_dataset.withColumn(\"empty\", typedLit(Seq(1)))\n",
    "pre_processed_dataset.rdd.repartition(1).saveAsTextFile(data_type)\n",
    "\n",
    "println(\"All good\")"
   ]
  },
  {
   "cell_type": "code",
   "execution_count": 115,
   "metadata": {},
   "outputs": [
    {
     "name": "stdout",
     "output_type": "stream",
     "text": [
      "SocialData(1595581200,356096,120976,78758,8554310,30013052,1094243,1600267,9444499,800622,9097720,62746,52113149,39654,26,844049,165,6631,1000,20316,1524079,3604,4.4,105.66,51.51,1236.23,44259,26104,3500,386,13298,543,5043,891)\n",
      "All good\n"
     ]
    },
    {
     "data": {
      "text/plain": [
       "defined class SocialData\n",
       "filename = ../Datasets/bitcoin_social_max_raw.txt\n",
       "socialDataInformation = MapPartitionsRDD[671] at map at <console>:93\n"
      ]
     },
     "metadata": {},
     "output_type": "display_data"
    },
    {
     "data": {
      "text/plain": [
       "createSocialData: (data: String)SocialData\n",
       "extractAndConvertToInt: (attribute: String)Int\n",
       "extractAndConvertToDouble: (attribute: String)Double\n"
      ]
     },
     "metadata": {},
     "output_type": "display_data"
    },
    {
     "data": {
      "text/plain": [
       "MapPartitionsRDD[671] at map at <console>:93"
      ]
     },
     "execution_count": 115,
     "metadata": {},
     "output_type": "execute_result"
    }
   ],
   "source": [
    "// Social data is a colelction of various values from different social platforms \n",
    "// Explanation of the values can be found at: https://min-api.cryptocompare.com/documentation?key=Social&cat=historicalHourSocialStats\n",
    "case class SocialData (time: Int,\n",
    "                        comments: Int,\n",
    "                        posts: Int,\n",
    "                        followers: Int,\n",
    "                        points: Int,\n",
    "                        overview_page_views: Int,\n",
    "                        analysis_page_views: Int,\n",
    "                        markets_page_views: Int,\n",
    "                        charts_page_views: Int,\n",
    "                        trades_page_views: Int, \n",
    "                        forum_page_views: Int, \n",
    "                        influence_page_views: Int, \n",
    "                        total_page_views: Int, //\n",
    "                        fb_likes: Int,\n",
    "                        fb_talking_about: Int, //\n",
    "                        twitter_followers: Int,\n",
    "                        twitter_following: Int,\n",
    "                        twitter_lists: Int,\n",
    "                        twitter_favourites: Int,\n",
    "                        twitter_statuses: Int,\n",
    "                        reddit_subscribers: Int,\n",
    "                        reddit_active_users: Int,\n",
    "                        reddit_posts_per_hour: Double, //\n",
    "                        reddit_posts_per_day: Double,\n",
    "                        reddit_comments_per_hour: Double, //\n",
    "                        reddit_comments_per_day: Double,\n",
    "                        code_repo_stars: Int,\n",
    "                        code_repo_forks: Int,\n",
    "                        code_repo_subscribers: Int,\n",
    "                        code_repo_open_pull_issues: Int,\n",
    "                        code_repo_closed_pull_issues: Int,\n",
    "                        code_repo_open_issues: Int,\n",
    "                        code_repo_closed_issues: Int,\n",
    "                        code_repo_contributors: Int                     \n",
    "                       )\n",
    "\n",
    "def createSocialData(data: String): SocialData = {\n",
    "    val s = data.split(\", \")\n",
    "    return SocialData(extractAndConvertToInt(s(0)),    extractAndConvertToInt(s(1)),     extractAndConvertToInt(s(2)),    extractAndConvertToInt(s(3)),\n",
    "                      extractAndConvertToInt(s(4)),    extractAndConvertToInt(s(5)),     extractAndConvertToInt(s(6)),    extractAndConvertToInt(s(7)),\n",
    "                      extractAndConvertToInt(s(8)),    extractAndConvertToInt(s(9)),     extractAndConvertToInt(s(10)),   extractAndConvertToInt(s(11)),\n",
    "                      extractAndConvertToInt(s(12)),   extractAndConvertToInt(s(13)),    extractAndConvertToInt(s(14)),   extractAndConvertToInt(s(15)),\n",
    "                      extractAndConvertToInt(s(16)),   extractAndConvertToInt(s(17)),    extractAndConvertToInt(s(18)),   extractAndConvertToInt(s(19)),\n",
    "                      extractAndConvertToInt(s(20)),   extractAndConvertToInt(s(21)),    extractAndConvertToDouble(s(22)),extractAndConvertToDouble(s(23)),\n",
    "                      extractAndConvertToDouble(s(24)),extractAndConvertToDouble(s(25)), extractAndConvertToInt(s(26)),   extractAndConvertToInt(s(27)),\n",
    "                      extractAndConvertToInt(s(28)),   extractAndConvertToInt(s(29)),    extractAndConvertToInt(s(30)),   extractAndConvertToInt(s(31)),\n",
    "                      extractAndConvertToInt(s(32)),   extractAndConvertToInt(s(33)))\n",
    "}\n",
    "\n",
    "def extractAndConvertToInt(attribute: String): Int = {\n",
    "    return attribute.split(\": \")(1).toInt\n",
    "}\n",
    "\n",
    "def extractAndConvertToDouble(attribute: String): Double = {\n",
    "    return attribute.split(\": \")(1).toDouble\n",
    "}\n",
    "\n",
    "\n",
    "val filename = \"../Datasets/bitcoin_social_max_raw.txt\"\n",
    "val socialDataInformation = sc.textFile(filename)\n",
    "            .flatMap(l => l.split(\"]},\"))         // Splits into indiviual http calls\n",
    "            .map(x => x.split(\"\"\": \\[\\{\"\"\")(1))   // Splits up between header info and data payload\n",
    "            .flatMap(x => x.split(\"},\"))          // Now we have row wise data. It is bit messy so need to clean it\n",
    "            .map(x => x.replace(\"{\", \"\"))\n",
    "            .map(x => x.replace(\"\\\"\", \"\"))\n",
    "            .map(x => x.replace(\"}\", \"\"))\n",
    "            .map(x => x.replace(\"]]\", \"\"))     // Last response is special case\n",
    "            .map(createSocialData)\n",
    "            .cache()\n",
    "    \n",
    "\n",
    "socialDataInformation.take(1).foreach(println)\n",
    "\n",
    "println(\"All good\")"
   ]
  },
  {
   "cell_type": "code",
   "execution_count": 116,
   "metadata": {
    "scrolled": false
   },
   "outputs": [
    {
     "name": "stdout",
     "output_type": "stream",
     "text": [
      "root\n",
      " |-- time: integer (nullable = false)\n",
      " |-- high: double (nullable = false)\n",
      " |-- low: double (nullable = false)\n",
      " |-- open: double (nullable = false)\n",
      " |-- volumefrom: double (nullable = false)\n",
      " |-- volumeto: double (nullable = false)\n",
      " |-- close: double (nullable = false)\n",
      " |-- conversionType: string (nullable = true)\n",
      " |-- conversionSymbol: string (nullable = true)\n",
      " |-- midPrice: double (nullable = true)\n",
      " |-- midPriceNorm: double (nullable = true)\n",
      " |-- volumefromNorm: double (nullable = true)\n",
      " |-- volumetoNorm: double (nullable = true)\n",
      " |-- total_page_views: integer (nullable = false)\n",
      " |-- fb_talking_about: integer (nullable = false)\n",
      " |-- reddit_posts_per_hour: double (nullable = false)\n",
      " |-- reddit_comments_per_hour: double (nullable = false)\n",
      " |-- pageViewsNorm: double (nullable = true)\n",
      " |-- fbTalkingNorm: double (nullable = true)\n",
      " |-- redditPostsNorm: double (nullable = true)\n",
      " |-- redditCommentsNorm: double (nullable = true)\n",
      "\n"
     ]
    },
    {
     "data": {
      "text/plain": [
       "socialDataDf = [time: int, comments: int ... 32 more fields]\n",
       "socialDatadf_shorten = [time: int, total_page_views: int ... 3 more fields]\n",
       "statistics = [4.777035968592445E7,3771379.0518834656,40416602,53304506,38.02677997571949,15.012885379980952,0,78,5.204202670856242,2.686563409250299,0.3,96.8,98.60628651003351,56.19267435160475,23.5,1457.49]\n",
       "pageViews_mean = 4.777035968592445E7\n",
       "pageViews_std = 3771379.0518834656\n",
       "pageViews_min = 40416602\n",
       "pageViews_max = 53304506\n",
       "pageViews_range = 12887904\n",
       "fbTalking_mean = 38.02677997571949\n",
       "fbTalking_std = 15.012885379980952\n",
       "fbTalking_min = 0\n",
       "fbTalking_max = 78\n",
       "fbTalking_range = 78...\n"
      ]
     },
     "metadata": {},
     "output_type": "display_data"
    },
    {
     "data": {
      "text/plain": [
       "78..."
      ]
     },
     "execution_count": 116,
     "metadata": {},
     "output_type": "execute_result"
    }
   ],
   "source": [
    "// Merge TradingInfo with SocialData\n",
    "\n",
    "val socialDataDf = spark.createDataFrame(socialDataInformation).sort(\"time\")\n",
    "val socialDatadf_shorten = socialDataDf.select(\"time\", \"total_page_views\", \"fb_talking_about\", \"reddit_posts_per_hour\", \"reddit_comments_per_hour\")\n",
    "\n",
    "\n",
    "val statistics = socialDatadf_shorten.agg(mean(\"total_page_views\"), stddev(\"total_page_views\"), min(\"total_page_views\"), max(\"total_page_views\"),\n",
    "                             mean(\"fb_talking_about\"), stddev(\"fb_talking_about\"), min(\"fb_talking_about\"), max(\"fb_talking_about\"),\n",
    "                             mean(\"reddit_posts_per_hour\"), stddev(\"reddit_posts_per_hour\"), min(\"reddit_posts_per_hour\"), max(\"reddit_posts_per_hour\"), \n",
    "                             mean(\"reddit_comments_per_hour\"), stddev(\"reddit_comments_per_hour\"), min(\"reddit_comments_per_hour\"), max(\"reddit_comments_per_hour\")).head()\n",
    "\n",
    "val pageViews_mean = statistics.getDouble(0)\n",
    "val pageViews_std = statistics.getDouble(1)\n",
    "val pageViews_min = statistics.getInt(2)\n",
    "val pageViews_max = statistics.getInt(3)\n",
    "val pageViews_range = pageViews_max - pageViews_min\n",
    "\n",
    "// // fbTalking\n",
    "val fbTalking_mean = statistics.getDouble(4)\n",
    "val fbTalking_std = statistics.getDouble(5)\n",
    "val fbTalking_min = statistics.getInt(6)\n",
    "val fbTalking_max = statistics.getInt(7)\n",
    "val fbTalking_range = fbTalking_max - fbTalking_min\n",
    "\n",
    "// // redditPosts\n",
    "val redditPosts_mean = statistics.getDouble(8)\n",
    "val redditPosts_std = statistics.getDouble(9)\n",
    "val redditPosts_min = statistics.getDouble(10)\n",
    "val redditPosts_max = statistics.getDouble(11)\n",
    "val redditPosts_range = redditPosts_max - redditPosts_min\n",
    "\n",
    "val redditComments_mean = statistics.getDouble(12)\n",
    "val redditComments_std = statistics.getDouble(13)\n",
    "val redditComments_min = statistics.getDouble(14)\n",
    "val redditComments_max = statistics.getDouble(15)\n",
    "val redditComments_range = redditComments_max - redditComments_min\n",
    "\n",
    "\n",
    "val socialDatadf_shorten_norm = socialDatadf_shorten.withColumn(\"pageViewsNorm\",(($\"total_page_views\" - pageViews_min)/pageViews_range).cast(DoubleType))\n",
    "               .withColumn(\"fbTalkingNorm\",(($\"fb_talking_about\" - fbTalking_min)/fbTalking_range).cast(DoubleType))\n",
    "               .withColumn(\"redditPostsNorm\",(($\"reddit_posts_per_hour\" - redditPosts_min)/redditPosts_range).cast(DoubleType))\n",
    "               .withColumn(\"redditCommentsNorm\",(($\"reddit_comments_per_hour\" - redditComments_min)/redditComments_range).cast(DoubleType))\n",
    "               .cache()\n",
    "\n",
    "val mergedDataDf = new_dataset.join(socialDatadf_shorten_norm, Seq(\"time\")).cache()\n",
    "mergedDataDf.printSchema()"
   ]
  },
  {
   "cell_type": "code",
   "execution_count": 20,
   "metadata": {},
   "outputs": [
    {
     "name": "stdout",
     "output_type": "stream",
     "text": [
      "All good\n"
     ]
    },
    {
     "data": {
      "text/plain": [
       "finalDf = [time: int, high: double ... 20 more fields]\n"
      ]
     },
     "metadata": {},
     "output_type": "display_data"
    },
    {
     "data": {
      "text/plain": [
       "[time: int, high: double ... 20 more fields]"
      ]
     },
     "execution_count": 20,
     "metadata": {},
     "output_type": "execute_result"
    }
   ],
   "source": [
    "// Saving data as Text\n",
    "\n",
    "// don't forget to delete the previous folder \n",
    "val finalDf = mergedDataDf.withColumn(\"empty\", typedLit(Seq(1)))\n",
    "finalDf.rdd.repartition(1).saveAsTextFile(data_type)\n",
    "\n",
    "println(\"All good\")\n"
   ]
  }
 ],
 "metadata": {
  "kernelspec": {
   "display_name": "Apache Toree - Scala",
   "language": "scala",
   "name": "apache_toree_scala"
  },
  "language_info": {
   "codemirror_mode": "text/x-scala",
   "file_extension": ".scala",
   "mimetype": "text/x-scala",
   "name": "scala",
   "pygments_lexer": "scala",
   "version": "2.11.12"
  }
 },
 "nbformat": 4,
 "nbformat_minor": 2
}
