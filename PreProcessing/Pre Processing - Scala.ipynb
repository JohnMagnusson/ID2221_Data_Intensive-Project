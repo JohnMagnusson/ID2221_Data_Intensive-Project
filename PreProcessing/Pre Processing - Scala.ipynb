{
 "cells": [
  {
   "cell_type": "code",
   "execution_count": 42,
   "metadata": {},
   "outputs": [
    {
     "ename": "Unknown Error",
     "evalue": "<console>:31: error: stable identifier required, but this.$line7$read.spark.implicits found.\n       import spark.implicits._\n                    ^\n",
     "output_type": "error",
     "traceback": []
    }
   ],
   "source": [
    "import scala.util.matching\n",
    "import org.apache.spark.rdd.RDD\n",
    "import spark.implicits._ \n",
    "\n",
    "println(\"all good\")"
   ]
  },
  {
   "cell_type": "markdown",
   "metadata": {},
   "source": [
    "data is in the format:\n",
    "\n",
    "{\n",
    "\"conversionSymbol\": \"\",\n",
    "\"volumeto\": 6685400.72, \n",
    "\"high\": 9165.89, \n",
    "\"low\": 9144.6, \n",
    "\"time\": 1595030400, \n",
    "\"volumefrom\": 730.39, \n",
    "\"close\": 9151.68, \n",
    "\"open\": 9156.79, \n",
    "\"conversionType\": \"direct\"\n",
    "}\n"
   ]
  },
  {
   "cell_type": "code",
   "execution_count": 91,
   "metadata": {},
   "outputs": [
    {
     "name": "stdout",
     "output_type": "stream",
     "text": [
      "TradingInfo(\\\\,3452435.9,9181.73,9167.58,1595120400,376.32,9168.16,9181.73,\\direct\\)\n",
      "TradingInfo(\\\\,3583760.67,9175.47,9162.64,1595124000,390.9,9165.67,9168.16,\\direct\\)\n",
      "TradingInfo(\\\\,4264728.56,9165.67,9146.8,1595127600,465.73,9159.37,9165.67,\\direct\\)\n",
      "TradingInfo(\\\\,2737686.63,9163.84,9153.66,1595131200,298.82,9157.3,9159.37,\\direct\\)\n",
      "TradingInfo(\\\\,3526995.72,9158.03,9149.38,1595134800,385.44,9149.81,9157.3,\\direct\\)\n",
      "All good\n"
     ]
    },
    {
     "data": {
      "text/plain": [
       "defined class TradingInfo\n",
       "filename = ../Datasets/day_json.txt\n",
       "tradingInformation = MapPartitionsRDD[158] at map at <console>:47\n"
      ]
     },
     "metadata": {},
     "output_type": "display_data"
    },
    {
     "data": {
      "text/plain": [
       "createTradingInfo: (data: String)TradingInfo\n"
      ]
     },
     "metadata": {},
     "output_type": "display_data"
    },
    {
     "data": {
      "text/plain": [
       "MapPartitionsRDD[158] at map at <console>:47"
      ]
     },
     "execution_count": 91,
     "metadata": {},
     "output_type": "execute_result"
    }
   ],
   "source": [
    "case class TradingInfo (conversionSymbol: String, \n",
    "                        volumeto: Double, \n",
    "                        high: Double, \n",
    "                        low: Double, \n",
    "                        time: Int,\n",
    "                        volumefrom: Double,\n",
    "                        close: Double,\n",
    "                        open: Double,\n",
    "                        conversionType: String\n",
    "                       )\n",
    "\n",
    "def createTradingInfo(data: String): TradingInfo = {\n",
    "    val s = data.split(\", \")\n",
    "    return TradingInfo(s(0).split(\": \")(1), s(1).split(\": \")(1).toDouble, s(2).split(\": \")(1).toDouble, \n",
    "                       s(3).split(\": \")(1).toDouble, s(4).split(\": \")(1).toInt, s(5).split(\": \")(1).toDouble, \n",
    "                       s(6).split(\": \")(1).toDouble, s(7).split(\": \")(1).toDouble, s(8).split(\": \")(1))\n",
    "}\n",
    "\n",
    "val filename = \"../Datasets/day_json.txt\"\n",
    "//val johnFileName = \"/home/john/ID2221-Labs/project/Datasets\"\n",
    "val tradingInformation = sc.textFile(filename).\n",
    "            flatMap(l => l.split(\"},\")).\n",
    "            //map(x => x.replace(\"\\\\\", \"\")).\n",
    "            map(x => x.replace(\"[\", \"\")).\n",
    "            map(x => x.replace(\"{\", \"\")).\n",
    "            map(x => x.replace(\"\\\"\", \"\")).\n",
    "            map(createTradingInfo)\n",
    "            .cache()\n",
    "\n",
    "tradingInformation.take(5).foreach(println)\n",
    "\n",
    "println(\"All good\")"
   ]
  },
  {
   "cell_type": "code",
   "execution_count": 216,
   "metadata": {},
   "outputs": [
    {
     "name": "stdout",
     "output_type": "stream",
     "text": [
      "7885.93\n",
      "+----------------+-------------+-------+-------+----------+----------+-------+-------+--------------+--------+-------------------+\n",
      "|conversionSymbol|     volumeto|   high|    low|      time|volumefrom|  close|   open|conversionType|midPrice|       midPriceNorm|\n",
      "+----------------+-------------+-------+-------+----------+----------+-------+-------+--------------+--------+-------------------+\n",
      "|              \\\\|8.132674979E7|8470.44|8261.87|1570629600|   9681.19|8460.44|8261.87|      \\direct\\|8366.155|0.48730967685485427|\n",
      "|              \\\\|8.241513365E7|8676.36| 8459.8|1570633200|   9628.14|8580.84|8460.44|      \\direct\\| 8568.08| 0.5129154075676553|\n",
      "|              \\\\|3.312488617E7|8652.44|8533.37|1570636800|    3853.6|8590.17|8580.84|      \\direct\\|8592.905| 0.5160634192796539|\n",
      "|              \\\\|1.879112661E7|8658.72|8590.17|1570640400|   2180.23|8650.17|8590.17|      \\direct\\|8624.445| 0.5200629475534274|\n",
      "|              \\\\|2.599451864E7|8697.56|8612.02|1570644000|   3005.19|8621.48|8650.17|      \\direct\\| 8654.79| 0.5239109401173991|\n",
      "+----------------+-------------+-------+-------+----------+----------+-------+-------+--------------+--------+-------------------+\n",
      "only showing top 5 rows\n",
      "\n",
      "root\n",
      " |-- conversionSymbol: string (nullable = true)\n",
      " |-- volumeto: double (nullable = false)\n",
      " |-- high: double (nullable = false)\n",
      " |-- low: double (nullable = false)\n",
      " |-- time: integer (nullable = false)\n",
      " |-- volumefrom: double (nullable = false)\n",
      " |-- close: double (nullable = false)\n",
      " |-- open: double (nullable = false)\n",
      " |-- conversionType: string (nullable = true)\n",
      " |-- midPrice: double (nullable = true)\n",
      " |-- midPriceNorm: double (nullable = true)\n",
      "\n",
      "All good\n"
     ]
    },
    {
     "data": {
      "text/plain": [
       "df = [conversionSymbol: string, volumeto: double ... 7 more fields]\n",
       "df_1 = [conversionSymbol: string, volumeto: double ... 8 more fields]\n",
       "statistics = [9022.352339736673,1533.4194619599898,4523.264999999999,12409.195]\n",
       "midPrice_mean = 9022.352339736673\n",
       "midPrice_std = 1533.4194619599898\n",
       "midPrice_min = 4523.264999999999\n",
       "midPrice_max = 12409.195\n",
       "midPrice_range = 7885.93\n",
       "df_2 = [conversionSymbol: string, volumeto: double ... 9 more fields]\n"
      ]
     },
     "metadata": {},
     "output_type": "display_data"
    },
    {
     "data": {
      "text/plain": [
       "lastException: Throwable = null\n"
      ]
     },
     "metadata": {},
     "output_type": "display_data"
    },
    {
     "data": {
      "text/plain": [
       "[conversionSymbol: string, volumeto: double ... 9 more fields]"
      ]
     },
     "execution_count": 216,
     "metadata": {},
     "output_type": "execute_result"
    }
   ],
   "source": [
    "// Data Action\n",
    "\n",
    "\n",
    "// val df = tradingInformation.toDF(\"conversionSymbol\",\"volumeto\", \"high\", \"low\", \"time\", \n",
    "//                                  \"volumefrom\", \"close\",\"open\",\"conversionType\").show(5)\n",
    "\n",
    "\n",
    "import org.apache.spark.sql.functions.{min, max, mean, stddev, typedLit}\n",
    "import org.apache.spark.sql.types.{IntegerType, DoubleType}\n",
    "\n",
    "val df = spark.createDataFrame(tradingInformation).sort(\"time\")\n",
    "val df_1 = df.withColumn(\"midPrice\",($\"high\" + $\"low\")/2)\n",
    "\n",
    "val statistics = df_1.agg(mean(\"midPrice\"), \n",
    "                         stddev(\"midPrice\"), \n",
    "                         min(\"midPrice\"), \n",
    "                         max(\"midPrice\")).head()\n",
    "\n",
    "val midPrice_mean = statistics.getDouble(0)\n",
    "val midPrice_std = statistics.getDouble(1)\n",
    "val midPrice_min = statistics.getDouble(2)\n",
    "val midPrice_max = statistics.getDouble(3)\n",
    "val midPrice_range = midPrice_max - midPrice_min\n",
    "println(midPrice_range)\n",
    "\n",
    "// from -1 to 1 \n",
    "//val df_2 = df_1.withColumn(\"midPriceNorm\",($\"midPrice\" - midPrice_mean)/midPrice_std)\n",
    "// from 0 to 1 \n",
    "val df_2 = df_1.withColumn(\"midPriceNorm\",(($\"midPrice\" - midPrice_min)/midPrice_range).cast(DoubleType)).cache()\n",
    "\n",
    "df_2.show(5)\n",
    "df_2.printSchema()\n",
    "\n",
    "println(\"All good\")"
   ]
  },
  {
   "cell_type": "code",
   "execution_count": 217,
   "metadata": {},
   "outputs": [
    {
     "name": "stdout",
     "output_type": "stream",
     "text": [
      "All good\n"
     ]
    },
    {
     "data": {
      "text/plain": [
       "df_3 = [conversionSymbol: string, volumeto: double ... 10 more fields]\n"
      ]
     },
     "metadata": {},
     "output_type": "display_data"
    },
    {
     "data": {
      "text/plain": [
       "[conversionSymbol: string, volumeto: double ... 10 more fields]"
      ]
     },
     "execution_count": 217,
     "metadata": {},
     "output_type": "execute_result"
    }
   ],
   "source": [
    "// Saving data as Text\n",
    "\n",
    "// don't forget to dele the previous folder \n",
    "// RDD does not allow us to overwrite: https://community.cloudera.com/t5/Support-Questions/Apache-SPARK-Overwrite-data-file/m-p/105253\n",
    "val df_3 = df_2.withColumn(\"empty\", typedLit(Seq(1)))\n",
    "df_3.rdd.repartition(1).saveAsTextFile(\"data_cleaned\")\n",
    "\n",
    "println(\"All good\")"
   ]
  }
 ],
 "metadata": {
  "kernelspec": {
   "display_name": "Apache Toree - Scala",
   "language": "scala",
   "name": "apache_toree_scala"
  },
  "language_info": {
   "codemirror_mode": "text/x-scala",
   "file_extension": ".scala",
   "mimetype": "text/x-scala",
   "name": "scala",
   "pygments_lexer": "scala",
   "version": "2.11.12"
  }
 },
 "nbformat": 4,
 "nbformat_minor": 2
}
