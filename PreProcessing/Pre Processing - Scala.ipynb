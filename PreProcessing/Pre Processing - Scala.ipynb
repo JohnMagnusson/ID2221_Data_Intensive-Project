{
 "cells": [
  {
   "cell_type": "code",
   "execution_count": 60,
   "metadata": {},
   "outputs": [
    {
     "name": "stdout",
     "output_type": "stream",
     "text": [
      "all good\n"
     ]
    }
   ],
   "source": [
    "import scala.util.matching\n",
    "import org.apache.spark.rdd.RDD\n",
    "import org.apache.spark.sql.functions.{min, max, mean, stddev, typedLit, when}\n",
    "import org.apache.spark.sql.types.{IntegerType, DoubleType}\n",
    "//import spark.implicits._ \n",
    "\n",
    "println(\"all good\")"
   ]
  },
  {
   "cell_type": "markdown",
   "metadata": {},
   "source": [
    "data is in the format:\n",
    "\n",
    "{\n",
    "\"conversionSymbol\": \"\",\n",
    "\"volumeto\": 6685400.72, \n",
    "\"high\": 9165.89, \n",
    "\"low\": 9144.6, \n",
    "\"time\": 1595030400, \n",
    "\"volumefrom\": 730.39, \n",
    "\"close\": 9151.68, \n",
    "\"open\": 9156.79, \n",
    "\"conversionType\": \"direct\"\n",
    "}\n"
   ]
  },
  {
   "cell_type": "code",
   "execution_count": 3,
   "metadata": {},
   "outputs": [
    {
     "name": "stdout",
     "output_type": "stream",
     "text": [
      "TradingInfo(1595466000,9540.53,9515.47,9524.38,1555.82,1.483120278E7,9538.04,\\direct\\,\\\\)\n",
      "TradingInfo(1595469600,9545.07,9512.26,9538.04,1358.04,1.293527787E7,9514.73,\\direct\\,\\\\)\n",
      "TradingInfo(1595473200,9514.84,9486.07,9514.73,1372.42,1.303854406E7,9508.16,\\direct\\,\\\\)\n",
      "All good\n"
     ]
    },
    {
     "data": {
      "text/plain": [
       "defined class TradingInfo\n",
       "filename = ../Datasets/bitcoin_json.txt\n",
       "tradingInformation = MapPartitionsRDD[13] at map at <console>:46\n"
      ]
     },
     "metadata": {},
     "output_type": "display_data"
    },
    {
     "data": {
      "text/plain": [
       "createTradingInfo: (data: String)TradingInfo\n"
      ]
     },
     "metadata": {},
     "output_type": "display_data"
    },
    {
     "data": {
      "text/plain": [
       "MapPartitionsRDD[13] at map at <console>:46"
      ]
     },
     "execution_count": 3,
     "metadata": {},
     "output_type": "execute_result"
    }
   ],
   "source": [
    "case class TradingInfo (time: Int,\n",
    "                        high: Double,\n",
    "                        low: Double,\n",
    "                        open: Double,\n",
    "                        volumefrom: Double,\n",
    "                        volumeto: Double, \n",
    "                        close: Double,\n",
    "                        conversionType: String,\n",
    "                        conversionSymbol: String                        \n",
    "                       )\n",
    "\n",
    "def createTradingInfo(data: String): TradingInfo = {\n",
    "    val s = data.split(\", \")\n",
    "    return TradingInfo(s(0).split(\": \")(1).toInt, s(1).split(\": \")(1).toDouble, s(2).split(\": \")(1).toDouble, \n",
    "                       s(3).split(\": \")(1).toDouble, s(4).split(\": \")(1).toDouble, s(5).split(\": \")(1).toDouble, \n",
    "                       s(6).split(\": \")(1).toDouble, s(7).split(\": \")(1), s(8).split(\": \")(1))\n",
    "}\n",
    "\n",
    "val filename = \"../Datasets/bitcoin_json.txt\"\n",
    "//val johnFileName = \"//home/john/ID2221-Labs/PreProcessing/\"\n",
    "val tradingInformation = sc.textFile(filename).\n",
    "            flatMap(l => l.split(\"},\")).\n",
    "            map(x => x.replace(\"[\", \"\")).\n",
    "            map(x => x.replace(\"{\", \"\")).\n",
    "            map(x => x.replace(\"\\\"\", \"\")).\n",
    "            map(createTradingInfo)\n",
    "            .cache()\n",
    "\n",
    "tradingInformation.take(3).foreach(println)\n",
    "\n",
    "println(\"All good\")"
   ]
  },
  {
   "cell_type": "code",
   "execution_count": 119,
   "metadata": {},
   "outputs": [
    {
     "name": "stdout",
     "output_type": "stream",
     "text": [
      "+----------+-------+------+-------+----------+--------+-------+--------------+----------------+-----------------+--------+\n",
      "|      time|   high|   low|   open|volumefrom|volumeto|  close|conversionType|conversionSymbol|         midPrice| dataset|\n",
      "+----------+-------+------+-------+----------+--------+-------+--------------+----------------+-----------------+--------+\n",
      "|1388581200|  967.0|718.46|  812.9|     1.012|  889.99|  967.0|      \\direct\\|              \\\\|           842.73|training|\n",
      "|1388584800| 759.11|750.13| 750.13|     1.661| 1282.36| 759.11|      \\direct\\|              \\\\|           754.62|training|\n",
      "|1388588400|1169.16|912.66|1169.16|    0.5916|  575.07|1000.26|      \\direct\\|              \\\\|          1040.91|training|\n",
      "|1388592000| 759.11|745.01| 759.11|    0.9084|  841.07| 745.01|      \\direct\\|              \\\\|           752.06|training|\n",
      "|1388595600| 750.13|745.01| 745.01|    0.4054|  340.39| 750.13|      \\direct\\|              \\\\|747.5699999999999|training|\n",
      "+----------+-------+------+-------+----------+--------+-------+--------------+----------------+-----------------+--------+\n",
      "only showing top 5 rows\n",
      "\n",
      "All good\n"
     ]
    },
    {
     "data": {
      "text/plain": [
       "df = [time: int, high: double ... 7 more fields]\n",
       "df1 = [time: int, high: double ... 8 more fields]\n",
       "ratio = 0.7\n",
       "training_size = 41884.5\n",
       "testing_size = 59825\n",
       "training_position = 1539360000\n",
       "testing_position = 1602626400\n",
       "df2 = [time: int, high: double ... 9 more fields]\n"
      ]
     },
     "metadata": {},
     "output_type": "display_data"
    },
    {
     "data": {
      "text/plain": [
       "[time: int, high: double ... 9 more fields]"
      ]
     },
     "execution_count": 119,
     "metadata": {},
     "output_type": "execute_result"
    }
   ],
   "source": [
    "// Data Action\n",
    "\n",
    "\n",
    "// val df = tradingInformation.toDF(\"conversionSymbol\",\"volumeto\", \"high\", \"low\", \"time\", \n",
    "//                                  \"volumefrom\", \"close\",\"open\",\"conversionType\").show(5)\n",
    "\n",
    "\n",
    "import org.apache.spark.sql.functions.when\n",
    "\n",
    "val df = spark.createDataFrame(tradingInformation).sort(\"time\")\n",
    "val df1 = df.withColumn(\"midPrice\",($\"high\" + $\"low\")/2)\n",
    "\n",
    "// df1.show(5)\n",
    "\n",
    "val ratio: Double = 0.7\n",
    "val training_size = df_1.count*ratio\n",
    "val testing_size = df_1.count - 10\n",
    "\n",
    "val training_position = df_1.take(training_size.toInt).last.getInt(0)\n",
    "val testing_position = df_1.take(testing_size.toInt).last.getInt(0)\n",
    "\n",
    "val df2 = df1.withColumn(\"dataset\", when(col(\"time\") <= training_position,\"training\")\n",
    "      .when(col(\"time\") > training_position and col(\"time\") <= testing_position,\"validation\")\n",
    "      .otherwise(\"testing\"))\n",
    "\n",
    "\n",
    "// val training_set = df_1.filter($\"time\" <= training_position).cache()\n",
    "// val validation_set = df_1.filter($\"time\" > training_position).filter($\"time\" <= testing_position).cache()\n",
    "// val testing_set = df_1.filter($\"time\" > testing_position).cache()\n",
    "\n",
    "\n",
    "// training_set.show(5)\n",
    "// validation_set.show(5)\n",
    "// testing_set.show(5)\n",
    "\n",
    "df2.show(5)\n",
    "\n",
    "println(\"All good\")"
   ]
  },
  {
   "cell_type": "code",
   "execution_count": 117,
   "metadata": {},
   "outputs": [
    {
     "data": {
      "text/plain": [
       "lastException = null\n"
      ]
     },
     "metadata": {},
     "output_type": "display_data"
    },
    {
     "ename": "org.apache.spark.sql.AnalysisException",
     "evalue": "Cannot resolve column name \"dataset\" among (time, high, low, open, volumefrom, volumeto, close, conversionType, conversionSymbol, midPrice);",
     "output_type": "error",
     "traceback": [
      "org.apache.spark.sql.AnalysisException: Cannot resolve column name \"dataset\" among (time, high, low, open, volumefrom, volumeto, close, conversionType, conversionSymbol, midPrice);",
      "  at org.apache.spark.sql.Dataset$$anonfun$resolve$1.apply(Dataset.scala:223)",
      "  at org.apache.spark.sql.Dataset$$anonfun$resolve$1.apply(Dataset.scala:223)",
      "  at scala.Option.getOrElse(Option.scala:121)",
      "  at org.apache.spark.sql.Dataset.resolve(Dataset.scala:222)",
      "  at org.apache.spark.sql.Dataset$$anonfun$groupBy$2.apply(Dataset.scala:1622)",
      "  at org.apache.spark.sql.Dataset$$anonfun$groupBy$2.apply(Dataset.scala:1622)",
      "  at scala.collection.TraversableLike$$anonfun$map$1.apply(TraversableLike.scala:234)",
      "  at scala.collection.TraversableLike$$anonfun$map$1.apply(TraversableLike.scala:234)",
      "  at scala.collection.mutable.ResizableArray$class.foreach(ResizableArray.scala:59)",
      "  at scala.collection.mutable.ArrayBuffer.foreach(ArrayBuffer.scala:48)",
      "  at scala.collection.TraversableLike$class.map(TraversableLike.scala:234)",
      "  at scala.collection.AbstractTraversable.map(Traversable.scala:104)",
      "  at org.apache.spark.sql.Dataset.groupBy(Dataset.scala:1622)",
      "  ... 54 elided"
     ]
    }
   ],
   "source": [
    "val statistics = df_1.groupBy(\"dataset\").agg(mean(\"midPrice\"))\n",
    "\n",
    "// , stddev(\"midPrice\"), min(\"midPrice\"), max(\"midPrice\"),\n",
    "//                          mean(\"volumefrom\"), stddev(\"volumefrom\"), min(\"volumefrom\"), max(\"volumefrom\"),\n",
    "//                          mean(\"volumeto\"), stddev(\"volumeto\"), min(\"volumeto\"), max(\"volumeto\")\n",
    "\n",
    "// val midPrice_mean = statistics.getDouble(0)\n",
    "// val midPrice_std = statistics.getDouble(1)\n",
    "// val midPrice_min = statistics.getDouble(2)\n",
    "// val midPrice_max = statistics.getDouble(3)\n",
    "// val midPrice_range = midPrice_max - midPrice_min\n",
    "\n",
    "// // // VolumeFrom\n",
    "// val volumefrom_mean = statistics.getDouble(4)\n",
    "// val volumefrom_std = statistics.getDouble(5)\n",
    "// val volumefrom_min = statistics.getDouble(6)\n",
    "// val volumefrom_max = statistics.getDouble(7)\n",
    "// val volumefrom_range = volumefrom_max - volumefrom_min\n",
    "\n",
    "// // // VolumeTo\n",
    "// val volumeto_mean = statistics.getDouble(8)\n",
    "// val volumeto_std = statistics.getDouble(9)\n",
    "// val volumeto_min = statistics.getDouble(10)\n",
    "// val volumeto_max = statistics.getDouble(11)\n",
    "// val volumeto_range = volumeto_max - volumeto_min\n",
    "\n",
    "// // from -1 to 1 \n",
    "// //val df_2 = df_1.withColumn(\"midPriceNorm\",($\"midPrice\" - midPrice_mean)/midPrice_std)\n",
    "// // from 0 to 1 \n",
    "// val df_2 = df_1.withColumn(\"midPriceNorm\",(($\"midPrice\" - midPrice_min)/midPrice_range).cast(DoubleType))\n",
    "//                .withColumn(\"volumefromNorm\",(($\"volumefrom\" - volumefrom_min)/volumefrom_range).cast(DoubleType))\n",
    "//                .withColumn(\"volumetoNorm\",(($\"volumeto\" - volumeto_min)/volumeto_range).cast(DoubleType))\n",
    "//                .cache()\n",
    "\n",
    "// df_2.show(5)\n",
    "// // df_2.printSchema()\n",
    "\n",
    "println(\"All good\")"
   ]
  },
  {
   "cell_type": "code",
   "execution_count": 6,
   "metadata": {},
   "outputs": [
    {
     "ename": "Unknown Error",
     "evalue": "<console>:37: error: not found: value df_2\n       val df_3 = df_2.withColumn(\"empty\", typedLit(Seq(1)))\n                  ^\n",
     "output_type": "error",
     "traceback": []
    }
   ],
   "source": [
    "// Saving data as Text\n",
    "\n",
    "// don't forget to delete the previous folder \n",
    "// RDD does not allow us to overwrite: https://community.cloudera.com/t5/Support-Questions/Apache-SPARK-Overwrite-data-file/m-p/105253\n",
    "val df_3 = df_2.withColumn(\"empty\", typedLit(Seq(1)))\n",
    "df_3.rdd.repartition(1).saveAsTextFile(\"data_cleaned\")\n",
    "\n",
    "println(\"All good\")"
   ]
  },
  {
   "cell_type": "code",
   "execution_count": null,
   "metadata": {},
   "outputs": [],
   "source": []
  }
 ],
 "metadata": {
  "kernelspec": {
   "display_name": "Apache Toree - Scala",
   "language": "scala",
   "name": "apache_toree_scala"
  },
  "language_info": {
   "codemirror_mode": "text/x-scala",
   "file_extension": ".scala",
   "mimetype": "text/x-scala",
   "name": "scala",
   "pygments_lexer": "scala",
   "version": "2.11.12"
  }
 },
 "nbformat": 4,
 "nbformat_minor": 2
}
